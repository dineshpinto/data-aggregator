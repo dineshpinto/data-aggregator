{
 "cells": [
  {
   "cell_type": "code",
   "execution_count": null,
   "id": "91025c9e-8523-4cdc-afc1-8a8b8be36845",
   "metadata": {},
   "outputs": [],
   "source": [
    "import sys\n",
    "import json\n",
    "import subprocess\n",
    "import os\n",
    "from tqdm import tqdm\n",
    "\n",
    "import numpy as np\n",
    "\n",
    "from numba import jit, vectorize\n",
    "import pandas as pd\n",
    "\n",
    "from typing import Tuple"
   ]
  },
  {
   "cell_type": "markdown",
   "id": "bce478b7-70c5-4bf2-8562-ada05241f386",
   "metadata": {},
   "source": [
    "# Running it live\n",
    "\n",
    "## Set up the arrays and functions used in advance\n",
    "\n",
    "Alternatively they can also be set up when \"BEGIN\" is read"
   ]
  },
  {
   "cell_type": "code",
   "execution_count": null,
   "id": "fc7fe93e-3b02-4846-b9ff-f279afadb4d3",
   "metadata": {},
   "outputs": [],
   "source": [
    "num_markets = 12001\n",
    "num_data_points = 20000\n",
    "\n",
    "volume = np.empty((num_markets * num_data_points), dtype=np.float64) * np.nan\n",
    "price = np.empty((num_markets * num_data_points), dtype=np.float32) * np.nan\n",
    "volume_price_product = np.empty((num_markets * num_data_points), dtype=np.float64) * np.nan\n",
    "is_buy = np.empty((num_markets * num_data_points), dtype=float) * np.nan\n",
    "\n",
    "market_analysis = np.zeros((num_markets, 5), dtype=np.float64)"
   ]
  },
  {
   "cell_type": "markdown",
   "id": "f8c45fda-f072-425a-9e78-bc6e251cb28b",
   "metadata": {},
   "source": [
    "## Declare the functions to be used"
   ]
  },
  {
   "cell_type": "code",
   "execution_count": null,
   "id": "4f0a6c82-ccd5-4443-9c69-e084ad5c8410",
   "metadata": {},
   "outputs": [],
   "source": [
    "def get_data(line: dict) -> Tuple[int, int, np.ndarray]:\n",
    "    idx = line[\"id\"]\n",
    "    market = line[\"market\"]\n",
    "    position_idx = market * num_data_points + idx\n",
    "    \n",
    "    volume[position_idx] = line[\"volume\"]\n",
    "    price[position_idx] = line[\"price\"]\n",
    "    volume_price_product[position_idx] = line[\"volume\"] * line[\"price\"]\n",
    "    is_buy[position_idx] = line[\"is_buy\"]\n",
    "    return idx, market, volume, price, volume_price_product, is_buy"
   ]
  },
  {
   "cell_type": "code",
   "execution_count": null,
   "id": "bc8c3f6f-0bc4-4fb2-bf78-ab8448a00965",
   "metadata": {},
   "outputs": [],
   "source": [
    "@jit(nopython=True)\n",
    "def analyze_data(\n",
    "    idx: int, \n",
    "    market: int, \n",
    "    volume: np.ndarray, \n",
    "    price: np.ndarray, \n",
    "    volume_price_product: np.ndarray, \n",
    "    is_buy: np.ndarray, \n",
    "    market_analysis: np.ndarray\n",
    "):\n",
    "    start_pos_idx = market * num_data_points\n",
    "    end_pos_idx = market * num_data_points + idx + 1\n",
    "    \n",
    "    # Total volume\n",
    "    market_analysis[market, 0] = np.nansum(volume[start_pos_idx:end_pos_idx])\n",
    "    # Mean price\n",
    "    market_analysis[market, 1] = np.nanmean(price[start_pos_idx:end_pos_idx])\n",
    "    # Mean volume\n",
    "    market_analysis[market, 2] = np.nanmean(volume[start_pos_idx:end_pos_idx])\n",
    "    # Volume weighted price mean\n",
    "    market_analysis[market, 3] = np.nanmean(volume_price_product[start_pos_idx:end_pos_idx])\n",
    "    # Percentage buys\n",
    "    not_nan = is_buy[start_pos_idx:end_pos_idx][np.isnan(is_buy[start_pos_idx:end_pos_idx]) == False]\n",
    "    if not_nan.size > 0:\n",
    "        market_analysis[market, 4] = np.count_nonzero(not_nan) / not_nan.size\n",
    "\n",
    "analyze_data(0, 0, volume, price, volume_price_product, is_buy, market_analysis)"
   ]
  },
  {
   "cell_type": "code",
   "execution_count": null,
   "id": "c9f3812f-86c9-435a-afbd-b12c4693adc2",
   "metadata": {},
   "outputs": [],
   "source": [
    "# Create a subprocess to read the stdout of the bin\n",
    "proc = subprocess.Popen([os.path.join(os.getcwd(), 'stdoutinator_amd64_darwin.bin')], stdout=subprocess.PIPE)\n",
    "\n",
    "# Currently limiting the range due to memory issues with the full 10M array, 8 GB is too small :(\n",
    "\n",
    "# while True:\n",
    "for _ in tqdm(range(num_data_points)):\n",
    "    line = proc.stdout.readline().decode(\"utf-8\").rstrip()\n",
    "    \n",
    "    if not line:\n",
    "        break\n",
    "    if line == \"BEGIN\":\n",
    "        # Arrays and functions can also be initialized here\n",
    "        continue\n",
    "    if line == \"END\":\n",
    "        print(\"Done\")\n",
    "        break\n",
    "        \n",
    "    idx, market, volume, price, volume_price_product, is_buy = get_data(line=json.loads(line))\n",
    "    analyze_data(\n",
    "        idx=idx, \n",
    "        market=market, \n",
    "        volume=volume, \n",
    "        price=price, \n",
    "        volume_price_product=volume_price_product, \n",
    "        is_buy=is_buy, \n",
    "        market_analysis=market_analysis\n",
    "    )\n",
    "            \n",
    "    # Extract relevant data from the json\n",
    "    # Note that `id` has been renamed to `idx`to prevent built-in conflicts"
   ]
  },
  {
   "cell_type": "code",
   "execution_count": null,
   "id": "deaa3189-1199-4a0f-af56-f939ebef1775",
   "metadata": {},
   "outputs": [],
   "source": [
    "df = pd.DataFrame(columns=[\"total_volume\", \"mean_price\", \"mean_volume\", \"mean_volume_weighted_price\", \"percentage_buys\"])\n",
    "\n",
    "for index, element in enumerate(market_analysis):\n",
    "    df.loc[index] = element"
   ]
  },
  {
   "cell_type": "code",
   "execution_count": null,
   "id": "dd261335-6f65-4ef8-861f-5450d3893653",
   "metadata": {},
   "outputs": [],
   "source": [
    "df"
   ]
  },
  {
   "cell_type": "code",
   "execution_count": null,
   "id": "7c3202e0-8037-4ed2-a062-da2dc27b6540",
   "metadata": {},
   "outputs": [],
   "source": []
  }
 ],
 "metadata": {
  "kernelspec": {
   "display_name": "data_aggregator",
   "language": "python",
   "name": "data_aggregator"
  },
  "language_info": {
   "codemirror_mode": {
    "name": "ipython",
    "version": 3
   },
   "file_extension": ".py",
   "mimetype": "text/x-python",
   "name": "python",
   "nbconvert_exporter": "python",
   "pygments_lexer": "ipython3",
   "version": "3.10.2"
  }
 },
 "nbformat": 4,
 "nbformat_minor": 5
}
