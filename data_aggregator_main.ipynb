{
 "cells": [
  {
   "cell_type": "code",
   "execution_count": 1,
   "id": "91025c9e-8523-4cdc-afc1-8a8b8be36845",
   "metadata": {},
   "outputs": [],
   "source": [
    "import sys\n",
    "import json\n",
    "import subprocess\n",
    "import os\n",
    "from tqdm import tqdm\n",
    "\n",
    "import numpy as np\n",
    "\n",
    "from numba import jit, vectorize\n",
    "import pandas as pd\n",
    "\n",
    "from typing import Tuple"
   ]
  },
  {
   "cell_type": "markdown",
   "id": "bce478b7-70c5-4bf2-8562-ada05241f386",
   "metadata": {},
   "source": [
    "# Running it live\n",
    "\n",
    "## Set up the arrays and functions used in advance\n",
    "\n",
    "- Alternatively they can also be set up when \"BEGIN\" is read.\n",
    "- `num_data_points` is used to limit the array size to 10000 elements, 10M points is too large for my 8 gigs of RAM :("
   ]
  },
  {
   "cell_type": "code",
   "execution_count": 2,
   "id": "fc7fe93e-3b02-4846-b9ff-f279afadb4d3",
   "metadata": {},
   "outputs": [],
   "source": [
    "num_markets = 12001\n",
    "# Ideally this would 10M, but this is too large for my 8 gigs of RAM\n",
    "num_data_points = 10000\n",
    "\n",
    "volume = np.empty((num_markets * num_data_points), dtype=np.float64) * np.nan\n",
    "price = np.empty((num_markets * num_data_points), dtype=np.float32) * np.nan\n",
    "volume_price_product = np.empty((num_markets * num_data_points), dtype=np.float64) * np.nan\n",
    "is_buy = np.empty((num_markets * num_data_points), dtype=float) * np.nan\n",
    "\n",
    "market_analysis = np.zeros((num_markets, 5), dtype=np.float64)"
   ]
  },
  {
   "cell_type": "markdown",
   "id": "f8c45fda-f072-425a-9e78-bc6e251cb28b",
   "metadata": {},
   "source": [
    "## Declare the functions to be used"
   ]
  },
  {
   "cell_type": "code",
   "execution_count": 3,
   "id": "4f0a6c82-ccd5-4443-9c69-e084ad5c8410",
   "metadata": {},
   "outputs": [],
   "source": [
    "def get_data(line: dict) -> Tuple[int, int, np.ndarray]:\n",
    "    idx = line[\"id\"]\n",
    "    market = line[\"market\"]\n",
    "    position_idx = market * num_data_points + idx\n",
    "    \n",
    "    volume[position_idx] = line[\"volume\"]\n",
    "    price[position_idx] = line[\"price\"]\n",
    "    volume_price_product[position_idx] = line[\"volume\"] * line[\"price\"]\n",
    "    is_buy[position_idx] = line[\"is_buy\"]\n",
    "    return idx, market, volume, price, volume_price_product, is_buy"
   ]
  },
  {
   "cell_type": "code",
   "execution_count": 4,
   "id": "bc8c3f6f-0bc4-4fb2-bf78-ab8448a00965",
   "metadata": {},
   "outputs": [],
   "source": [
    "@jit(nopython=True)\n",
    "def analyze_data(\n",
    "    idx: int, \n",
    "    market: int, \n",
    "    volume: np.ndarray, \n",
    "    price: np.ndarray, \n",
    "    volume_price_product: np.ndarray, \n",
    "    is_buy: np.ndarray, \n",
    "    market_analysis: np.ndarray\n",
    "):\n",
    "    start_pos_idx = market * num_data_points\n",
    "    end_pos_idx = market * num_data_points + idx + 1\n",
    "    \n",
    "    # Total volume\n",
    "    market_analysis[market, 0] = np.nansum(volume[start_pos_idx:end_pos_idx])\n",
    "    # Mean price\n",
    "    market_analysis[market, 1] = np.nanmean(price[start_pos_idx:end_pos_idx])\n",
    "    # Mean volume\n",
    "    # We can also reuse the total_volume calculated above and just calculate the number of \n",
    "    # non-nan elements to get the mean volume, perhaps a slight performance improvement\n",
    "    market_analysis[market, 2] = np.nanmean(volume[start_pos_idx:end_pos_idx])\n",
    "    # Volume weighted price mean\n",
    "    market_analysis[market, 3] = np.nanmean(volume_price_product[start_pos_idx:end_pos_idx])\n",
    "    # Percentage buys\n",
    "    not_nan = is_buy[start_pos_idx:end_pos_idx][np.isnan(is_buy[start_pos_idx:end_pos_idx]) == False]\n",
    "    if not_nan.size > 0:\n",
    "        market_analysis[market, 4] = np.count_nonzero(not_nan) / not_nan.size\n",
    "\n",
    "analyze_data(0, 0, volume, price, volume_price_product, is_buy, market_analysis)"
   ]
  },
  {
   "cell_type": "code",
   "execution_count": 5,
   "id": "c9f3812f-86c9-435a-afbd-b12c4693adc2",
   "metadata": {},
   "outputs": [
    {
     "name": "stderr",
     "output_type": "stream",
     "text": [
      "100%|███████████████████████████████████████████████████████████████████████████████████████████████████████████| 10000/10000 [00:00<00:00, 10500.99it/s]\n"
     ]
    }
   ],
   "source": [
    "# Create a subprocess to read the stdout of the binary file\n",
    "proc = subprocess.Popen([os.path.join(os.getcwd(), 'stdoutinator_amd64_darwin.bin')], stdout=subprocess.PIPE)\n",
    "\n",
    "# Currently limiting the range due to memory issues with the full 10M array\n",
    "# In the final version, the while loop should be used\n",
    "\n",
    "# while True:\n",
    "for _ in tqdm(range(num_data_points)):\n",
    "    line = proc.stdout.readline().decode(\"utf-8\").rstrip()\n",
    "    \n",
    "    if not line:\n",
    "        break\n",
    "    if line == \"BEGIN\":\n",
    "        # Arrays and functions can also be initialized here\n",
    "        continue\n",
    "    if line == \"END\":\n",
    "        # Some additional cleanup logic can be added here\n",
    "        break\n",
    "        \n",
    "    # Extract relevant data from the json\n",
    "    # Note that `id` has been renamed to `idx`to prevent built-in conflicts\n",
    "    idx, market, volume, price, volume_price_product, is_buy = get_data(line=json.loads(line))\n",
    "    \n",
    "    # Analyze data, note that since `market_analysis` is declared globally, it can be called at anytime \n",
    "    # to retrieve the current analyzed data \n",
    "    analyze_data(\n",
    "        idx=idx, \n",
    "        market=market, \n",
    "        volume=volume, \n",
    "        price=price, \n",
    "        volume_price_product=volume_price_product, \n",
    "        is_buy=is_buy, \n",
    "        market_analysis=market_analysis\n",
    "    )"
   ]
  },
  {
   "cell_type": "markdown",
   "id": "2acbf3b5-a85c-4261-849f-29ab92872d18",
   "metadata": {},
   "source": [
    "# Visualize in DataFrame\n",
    "DataFrame index is `market`"
   ]
  },
  {
   "cell_type": "code",
   "execution_count": 8,
   "id": "deaa3189-1199-4a0f-af56-f939ebef1775",
   "metadata": {},
   "outputs": [],
   "source": [
    "df = pd.DataFrame(columns=[\"total_volume\", \"mean_price\", \"mean_volume\", \"mean_volume_weighted_price\", \"percentage_buys\"])\n",
    "\n",
    "for index, element in enumerate(market_analysis):\n",
    "    df.loc[index] = element"
   ]
  },
  {
   "cell_type": "code",
   "execution_count": 7,
   "id": "dd261335-6f65-4ef8-861f-5450d3893653",
   "metadata": {},
   "outputs": [
    {
     "data": {
      "text/html": [
       "<div>\n",
       "<style scoped>\n",
       "    .dataframe tbody tr th:only-of-type {\n",
       "        vertical-align: middle;\n",
       "    }\n",
       "\n",
       "    .dataframe tbody tr th {\n",
       "        vertical-align: top;\n",
       "    }\n",
       "\n",
       "    .dataframe thead th {\n",
       "        text-align: right;\n",
       "    }\n",
       "</style>\n",
       "<table border=\"1\" class=\"dataframe\">\n",
       "  <thead>\n",
       "    <tr style=\"text-align: right;\">\n",
       "      <th></th>\n",
       "      <th>total_volume</th>\n",
       "      <th>mean_price</th>\n",
       "      <th>mean_volume</th>\n",
       "      <th>mean_volume_weighted_price</th>\n",
       "      <th>percentage_buys</th>\n",
       "    </tr>\n",
       "  </thead>\n",
       "  <tbody>\n",
       "    <tr>\n",
       "      <th>0</th>\n",
       "      <td>0.000000</td>\n",
       "      <td>NaN</td>\n",
       "      <td>NaN</td>\n",
       "      <td>NaN</td>\n",
       "      <td>0.0</td>\n",
       "    </tr>\n",
       "    <tr>\n",
       "      <th>1</th>\n",
       "      <td>189.034643</td>\n",
       "      <td>1.280509</td>\n",
       "      <td>189.034643</td>\n",
       "      <td>242.060606</td>\n",
       "      <td>1.0</td>\n",
       "    </tr>\n",
       "    <tr>\n",
       "      <th>2</th>\n",
       "      <td>3994.634779</td>\n",
       "      <td>2.577998</td>\n",
       "      <td>3994.634779</td>\n",
       "      <td>10298.162026</td>\n",
       "      <td>1.0</td>\n",
       "    </tr>\n",
       "    <tr>\n",
       "      <th>3</th>\n",
       "      <td>2017.032211</td>\n",
       "      <td>3.283191</td>\n",
       "      <td>2017.032211</td>\n",
       "      <td>6622.301427</td>\n",
       "      <td>1.0</td>\n",
       "    </tr>\n",
       "    <tr>\n",
       "      <th>4</th>\n",
       "      <td>4372.212173</td>\n",
       "      <td>4.063693</td>\n",
       "      <td>4372.212173</td>\n",
       "      <td>17767.325878</td>\n",
       "      <td>1.0</td>\n",
       "    </tr>\n",
       "  </tbody>\n",
       "</table>\n",
       "</div>"
      ],
      "text/plain": [
       "   total_volume  mean_price  mean_volume  mean_volume_weighted_price  \\\n",
       "0      0.000000         NaN          NaN                         NaN   \n",
       "1    189.034643    1.280509   189.034643                  242.060606   \n",
       "2   3994.634779    2.577998  3994.634779                10298.162026   \n",
       "3   2017.032211    3.283191  2017.032211                 6622.301427   \n",
       "4   4372.212173    4.063693  4372.212173                17767.325878   \n",
       "\n",
       "   percentage_buys  \n",
       "0              0.0  \n",
       "1              1.0  \n",
       "2              1.0  \n",
       "3              1.0  \n",
       "4              1.0  "
      ]
     },
     "execution_count": 7,
     "metadata": {},
     "output_type": "execute_result"
    }
   ],
   "source": [
    "df.head()"
   ]
  }
 ],
 "metadata": {
  "kernelspec": {
   "display_name": "data_aggregator",
   "language": "python",
   "name": "data_aggregator"
  },
  "language_info": {
   "codemirror_mode": {
    "name": "ipython",
    "version": 3
   },
   "file_extension": ".py",
   "mimetype": "text/x-python",
   "name": "python",
   "nbconvert_exporter": "python",
   "pygments_lexer": "ipython3",
   "version": "3.10.2"
  }
 },
 "nbformat": 4,
 "nbformat_minor": 5
}
