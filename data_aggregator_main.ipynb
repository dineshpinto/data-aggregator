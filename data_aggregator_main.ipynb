{
 "cells": [
  {
   "cell_type": "code",
   "execution_count": null,
   "id": "69a2fe2c-bf26-46c7-a786-31687b515cc5",
   "metadata": {},
   "outputs": [],
   "source": [
    "import os\n",
    "import subprocess\n",
    "import json\n",
    "\n",
    "import pandas as pd\n",
    "import numpy as np\n",
    "\n",
    "from numba import jit\n",
    "from typing import Tuple\n",
    "from tqdm import tqdm"
   ]
  },
  {
   "cell_type": "markdown",
   "id": "f6ef05af-8d5c-45b9-adcd-1f02ae7c5e7a",
   "metadata": {},
   "source": [
    "# Running it live\n",
    "\n",
    "## Set up the arrays and functions used in advance\n",
    "\n",
    "Alternatively they can also be set up when \"BEGIN\" is read"
   ]
  },
  {
   "cell_type": "code",
   "execution_count": null,
   "id": "84808a3d-5c83-48c2-89fd-7994ec255e1e",
   "metadata": {},
   "outputs": [],
   "source": [
    "num_markets = 12001\n",
    "num_data_points = 100000\n",
    "\n",
    "market_data = np.empty((num_markets, num_data_points, 4)) * np.nan\n",
    "market_analysis = np.empty((num_markets, 5)) * np.nan"
   ]
  },
  {
   "cell_type": "code",
   "execution_count": null,
   "id": "a4a79704-e8d7-4e59-b01d-2c0ddeeff244",
   "metadata": {},
   "outputs": [],
   "source": [
    "def get_data(line: str) -> Tuple[int, int, np.ndarray]:\n",
    "    idx = line[\"id\"]\n",
    "    \n",
    "    market = line[\"market\"]\n",
    "    market_data[market, idx, 0] = line[\"volume\"]\n",
    "    market_data[market, idx, 1] = line[\"price\"]\n",
    "    market_data[market, idx, 2] = line[\"volume\"] * line[\"price\"]\n",
    "    market_data[market, idx, 3] = line[\"is_buy\"]\n",
    "    return idx, market, market_data"
   ]
  },
  {
   "cell_type": "code",
   "execution_count": null,
   "id": "a4adcb92-0609-4ab7-bcd3-f19781cacecb",
   "metadata": {},
   "outputs": [],
   "source": [
    "@jit(nopython=True)\n",
    "def analyze_data(market: int, idx: int, market_data: np.ndarray, market_analysis: np.ndarray):\n",
    "    # Total volume\n",
    "    market_analysis[market, 0] = np.nansum(market_data[market, :idx + 1, 0])\n",
    "    # Mean price\n",
    "    market_analysis[market, 1] = np.nanmean(market_data[market, :idx + 1, 1])\n",
    "    # Mean volume\n",
    "    market_analysis[market, 2] = market_analysis[market, 0] / (idx + 1)\n",
    "    # Volume weighted price mean\n",
    "    market_analysis[market, 3] = np.nanmean(market_data[market, :idx + 1, 0] * market_data[market, :idx + 1, 1])\n",
    "    # Percentage buys\n",
    "    market_analysis[market, 4] = np.count_nonzero(market_data[market, :idx + 1, 0] == 1) / (idx + 1) * 100\n",
    "    \n",
    "analyze_data(0, 0, market_data, market_analysis)"
   ]
  },
  {
   "cell_type": "code",
   "execution_count": null,
   "id": "087389f4-df74-4c66-bf21-e67f09312de3",
   "metadata": {},
   "outputs": [],
   "source": [
    "# Create a subprocess to read the stdout of the bin\n",
    "proc = subprocess.Popen([os.path.join(os.getcwd(), 'stdoutinator_amd64_darwin.bin')], stdout=subprocess.PIPE)\n",
    "\n",
    "# while True:\n",
    "# The try-except is to temporarily limit the number of data points as my RAM cant handle a 10M array\n",
    "for _ in tqdm(range(num_data_points)):\n",
    "    line = proc.stdout.readline().decode(\"utf-8\").rstrip()\n",
    "    \n",
    "    if not line:\n",
    "        break\n",
    "    if line == \"BEGIN\":\n",
    "        # Skip execution of the rest\n",
    "        # Arrays and functions can also be initialized here\n",
    "        continue\n",
    "    if line == \"END\":\n",
    "        break\n",
    "            \n",
    "    # Extract relevant data from the json\n",
    "    # Note that `id` has been renamed to `idx`to prevent built-in conflicts \n",
    "    idx, market, market_data = get_data(json.loads(line)) \n",
    "    analyze_data(market, idx, market_data, market_analysis)"
   ]
  },
  {
   "cell_type": "code",
   "execution_count": null,
   "id": "889c7505-cbb6-43a9-bdfa-4929d5fa6a5f",
   "metadata": {},
   "outputs": [],
   "source": [
    "df = pd.DataFrame(columns=[\"total_volume\", \"mean_price\", \"mean_volume\", \"mean_volume_weighted_price\", \"percentage_buys\"])\n",
    "\n",
    "for idx, element in enumerate(market_analysis):\n",
    "    df.loc[idx] = element"
   ]
  },
  {
   "cell_type": "code",
   "execution_count": null,
   "id": "d44396f7-cdb3-4d08-9243-3bf95011fe5f",
   "metadata": {},
   "outputs": [],
   "source": [
    "# Print first 30 elements\n",
    "df[:30]"
   ]
  },
  {
   "cell_type": "code",
   "execution_count": null,
   "id": "cc2a6ebf-e956-4b7e-9ebe-1da31153ae97",
   "metadata": {},
   "outputs": [],
   "source": []
  }
 ],
 "metadata": {
  "kernelspec": {
   "display_name": "data_aggregator",
   "language": "python",
   "name": "data_aggregator"
  },
  "language_info": {
   "codemirror_mode": {
    "name": "ipython",
    "version": 3
   },
   "file_extension": ".py",
   "mimetype": "text/x-python",
   "name": "python",
   "nbconvert_exporter": "python",
   "pygments_lexer": "ipython3",
   "version": "3.10.2"
  }
 },
 "nbformat": 4,
 "nbformat_minor": 5
}
