{
 "cells": [
  {
   "cell_type": "code",
   "execution_count": 1,
   "id": "65486b1d-0711-43d0-88ed-9e285d0df91c",
   "metadata": {},
   "outputs": [],
   "source": [
    "import sys\n",
    "import json\n",
    "\n",
    "import numpy as np\n",
    "import matplotlib.pyplot as plt\n",
    "\n",
    "from io import StringIO\n",
    "from numba import jit\n",
    "\n",
    "from typing import Tuple"
   ]
  },
  {
   "cell_type": "markdown",
   "id": "29237993-dd5f-4867-8c4e-c9d2b5593579",
   "metadata": {},
   "source": [
    "# Testing the logic"
   ]
  },
  {
   "cell_type": "markdown",
   "id": "5bc3b32a-5977-4b1e-958f-d54b4deac6eb",
   "metadata": {},
   "source": [
    "## Set up the arrays to use for storing and analyzing data\n",
    "\n",
    "Note that the arrays get quite large, so make sure you have enough RAM"
   ]
  },
  {
   "cell_type": "code",
   "execution_count": 2,
   "id": "643f5668-4c4a-4d4e-94bb-cd41c8c61601",
   "metadata": {},
   "outputs": [],
   "source": [
    "num_markets = 12001\n",
    "num_data_points = 100001\n",
    "\n",
    "market_data = np.empty((num_markets, num_data_points, 4), dtype=np.float64) * np.nan\n",
    "market_analysis = np.empty((num_markets, 5), dtype=np.float64) * np.nan"
   ]
  },
  {
   "cell_type": "code",
   "execution_count": 3,
   "id": "35c5195e-32d1-42ec-9d0c-0a96a46715ee",
   "metadata": {},
   "outputs": [
    {
     "data": {
      "text/plain": [
       "dtype('float64')"
      ]
     },
     "execution_count": 3,
     "metadata": {},
     "output_type": "execute_result"
    }
   ],
   "source": [
    "market_analysis.dtype"
   ]
  },
  {
   "cell_type": "markdown",
   "id": "b762aa79-e186-4525-8fa7-72a93d8cf75e",
   "metadata": {},
   "source": [
    "## Use the numby JIT compiler for core analysis\n",
    "Roughly 10x speedup over vanilla numpy"
   ]
  },
  {
   "cell_type": "code",
   "execution_count": 8,
   "id": "fa87b41e-7ab6-40c2-8f91-184e0b58312e",
   "metadata": {},
   "outputs": [],
   "source": [
    "@jit(nopython=True, fastmath=True)\n",
    "def analyze_data(market: int, idx: int, market_data: np.ndarray, market_analysis: np.ndarray):\n",
    "    # Total volume\n",
    "    market_analysis[market, 0] = np.nansum(market_data[market, :idx + 1, 0])\n",
    "    # Mean price\n",
    "    market_analysis[market, 1] = np.nanmean(market_data[market, :idx + 1, 1])\n",
    "    # Mean volume\n",
    "    market_analysis[market, 2] = market_analysis[market, 0] / (idx + 1)\n",
    "    # Volume weighted price mean\n",
    "    market_analysis[market, 3] = np.nanmean(market_data[market, :idx + 1, 0] * market_data[market, :idx + 1, 1])\n",
    "    # Percentage buys\n",
    "    market_analysis[market, 4] = np.count_nonzero(market_data[market, :idx + 1, 0] == 1) / (idx + 1) * 100\n",
    "    \n",
    "analyze_data(0, 0, market_data, market_analysis)"
   ]
  },
  {
   "cell_type": "markdown",
   "id": "a764716b-59d7-48ca-ae32-fb31cdf5a862",
   "metadata": {},
   "source": [
    "## Extract data from the json"
   ]
  },
  {
   "cell_type": "code",
   "execution_count": 9,
   "id": "237b9a70-f7a1-4c2f-9519-7f65688904fa",
   "metadata": {},
   "outputs": [],
   "source": [
    "def get_data(line: str) -> Tuple[int, int, np.ndarray]:\n",
    "    idx = line[\"id\"]\n",
    "    \n",
    "    market = line[\"market\"]\n",
    "    market_data[market, idx, 0] = line[\"volume\"]\n",
    "    market_data[market, idx, 1] = line[\"price\"]\n",
    "    market_data[market, idx, 2] = line[\"volume\"] * line[\"price\"]\n",
    "    market_data[market, idx, 3] = line[\"is_buy\"]\n",
    "    return idx, market, market_data"
   ]
  },
  {
   "cell_type": "markdown",
   "id": "ec4dc67a-5a43-45ee-b9fc-e320b8bffd6d",
   "metadata": {},
   "source": [
    "## Simulated stdin"
   ]
  },
  {
   "cell_type": "code",
   "execution_count": 10,
   "id": "d196187b-4a39-4844-96d6-bf884daf419a",
   "metadata": {},
   "outputs": [],
   "source": [
    "sys.stdin = StringIO('{\"id\":100000,\"market\":5773,\"price\":1.234,\"volume\":1234.56,\"is_buy\":true}')\n",
    "line = json.loads(sys.stdin.readline())\n",
    "idx, market, market_data = get_data(line)"
   ]
  },
  {
   "cell_type": "markdown",
   "id": "fce969bc-85b3-43a2-8429-16a3bf40eefb",
   "metadata": {},
   "source": [
    "### Time the code execution"
   ]
  },
  {
   "cell_type": "code",
   "execution_count": null,
   "id": "3849f4d8-3195-459a-b926-0aa518e3fbc8",
   "metadata": {},
   "outputs": [],
   "source": [
    "%%timeit\n",
    "analyze_data(market, idx, market_data, market_analysis)"
   ]
  },
  {
   "cell_type": "markdown",
   "id": "467d4e54-c419-41ad-ad02-5e7173a0c29d",
   "metadata": {},
   "source": [
    "## Variation of analysis time with id\n",
    "Data shown on a log-log plot\n",
    "\n",
    "Limitations\n",
    "- The additional elements are just NaNs, not actual float -> this is the minimum analysis time"
   ]
  },
  {
   "cell_type": "code",
   "execution_count": null,
   "id": "86bd3c1c-863c-4499-a5e8-0b1634b924c3",
   "metadata": {},
   "outputs": [],
   "source": [
    "ids = [1, 10, 100, 1000, 10000, 100000]\n",
    "analysis_time = [314e-9, 340e-9, 884e-9, 6.01e-6, 58.6e-6, 578e-6]"
   ]
  },
  {
   "cell_type": "code",
   "execution_count": null,
   "id": "8359dccf-2212-4eaa-ab7d-48dc0c0d1105",
   "metadata": {},
   "outputs": [],
   "source": [
    "fig, ax = plt.subplots()\n",
    "ax.plot(ids, analysis_time, \"o-\")\n",
    "ax.set_xlabel(\"ID of element\")\n",
    "ax.set_ylabel(\"Analysis time (s)\")\n",
    "\n",
    "ax.set_yscale(\"log\")\n",
    "ax.set_xscale(\"log\")\n",
    "plt.savefig(\"variation_analysis_time_with_id.jpg\", dpi=300)"
   ]
  }
 ],
 "metadata": {
  "kernelspec": {
   "display_name": "data_aggregator",
   "language": "python",
   "name": "data_aggregator"
  },
  "language_info": {
   "codemirror_mode": {
    "name": "ipython",
    "version": 3
   },
   "file_extension": ".py",
   "mimetype": "text/x-python",
   "name": "python",
   "nbconvert_exporter": "python",
   "pygments_lexer": "ipython3",
   "version": "3.10.2"
  }
 },
 "nbformat": 4,
 "nbformat_minor": 5
}
